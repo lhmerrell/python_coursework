{
 "cells": [
  {
   "cell_type": "code",
   "execution_count": 1,
   "id": "d7790a16-16d6-432d-aba4-bcb205252366",
   "metadata": {},
   "outputs": [],
   "source": [
    "import urllib\n",
    "import pandas as pd\n",
    "import seaborn as sns\n",
    "import matplotlib.pyplot as plt\n",
    "import numpy as np\n",
    "import sklearn"
   ]
  },
  {
   "cell_type": "markdown",
   "id": "aa855990-356a-4b73-ab6b-642128961386",
   "metadata": {},
   "source": [
    "# IMPORT DATA"
   ]
  },
  {
   "cell_type": "code",
   "execution_count": 2,
   "id": "8345246e-5d9e-4bf3-9c1c-2d35f497dd64",
   "metadata": {},
   "outputs": [],
   "source": [
    "#imported data from scikit.learn with help from Matt due to csv issues.\n",
    "\n",
    "import urllib"
   ]
  },
  {
   "cell_type": "code",
   "execution_count": 3,
   "id": "84b1f198-7a32-4684-9a9a-c89219db13f8",
   "metadata": {},
   "outputs": [
    {
     "data": {
      "text/plain": [
       "('diabetes.tab', <http.client.HTTPMessage at 0x7fe26eafa5b0>)"
      ]
     },
     "execution_count": 3,
     "metadata": {},
     "output_type": "execute_result"
    }
   ],
   "source": [
    "urllib.request.urlretrieve(\"https://www4.stat.ncsu.edu/~boos/var.select/diabetes.tab.txt\", \"diabetes.tab\")"
   ]
  },
  {
   "cell_type": "markdown",
   "id": "123cfd7a-8e63-4d78-91e5-8c1a5203ae9f",
   "metadata": {},
   "source": [
    "# FORMAT DATA INTO DATAFRAME"
   ]
  },
  {
   "cell_type": "code",
   "execution_count": 4,
   "id": "8b509458-b005-408f-ad6c-bc85601f792c",
   "metadata": {},
   "outputs": [
    {
     "data": {
      "text/html": [
       "<div>\n",
       "<style scoped>\n",
       "    .dataframe tbody tr th:only-of-type {\n",
       "        vertical-align: middle;\n",
       "    }\n",
       "\n",
       "    .dataframe tbody tr th {\n",
       "        vertical-align: top;\n",
       "    }\n",
       "\n",
       "    .dataframe thead th {\n",
       "        text-align: right;\n",
       "    }\n",
       "</style>\n",
       "<table border=\"1\" class=\"dataframe\">\n",
       "  <thead>\n",
       "    <tr style=\"text-align: right;\">\n",
       "      <th></th>\n",
       "      <th>AGE</th>\n",
       "      <th>SEX</th>\n",
       "      <th>BMI</th>\n",
       "      <th>BP</th>\n",
       "      <th>S1</th>\n",
       "      <th>S2</th>\n",
       "      <th>S3</th>\n",
       "      <th>S4</th>\n",
       "      <th>S5</th>\n",
       "      <th>S6</th>\n",
       "      <th>Y</th>\n",
       "    </tr>\n",
       "  </thead>\n",
       "  <tbody>\n",
       "    <tr>\n",
       "      <th>0</th>\n",
       "      <td>59</td>\n",
       "      <td>2</td>\n",
       "      <td>32.1</td>\n",
       "      <td>101.00</td>\n",
       "      <td>157</td>\n",
       "      <td>93.2</td>\n",
       "      <td>38.0</td>\n",
       "      <td>4.00</td>\n",
       "      <td>4.8598</td>\n",
       "      <td>87</td>\n",
       "      <td>151</td>\n",
       "    </tr>\n",
       "    <tr>\n",
       "      <th>1</th>\n",
       "      <td>48</td>\n",
       "      <td>1</td>\n",
       "      <td>21.6</td>\n",
       "      <td>87.00</td>\n",
       "      <td>183</td>\n",
       "      <td>103.2</td>\n",
       "      <td>70.0</td>\n",
       "      <td>3.00</td>\n",
       "      <td>3.8918</td>\n",
       "      <td>69</td>\n",
       "      <td>75</td>\n",
       "    </tr>\n",
       "    <tr>\n",
       "      <th>2</th>\n",
       "      <td>72</td>\n",
       "      <td>2</td>\n",
       "      <td>30.5</td>\n",
       "      <td>93.00</td>\n",
       "      <td>156</td>\n",
       "      <td>93.6</td>\n",
       "      <td>41.0</td>\n",
       "      <td>4.00</td>\n",
       "      <td>4.6728</td>\n",
       "      <td>85</td>\n",
       "      <td>141</td>\n",
       "    </tr>\n",
       "    <tr>\n",
       "      <th>3</th>\n",
       "      <td>24</td>\n",
       "      <td>1</td>\n",
       "      <td>25.3</td>\n",
       "      <td>84.00</td>\n",
       "      <td>198</td>\n",
       "      <td>131.4</td>\n",
       "      <td>40.0</td>\n",
       "      <td>5.00</td>\n",
       "      <td>4.8903</td>\n",
       "      <td>89</td>\n",
       "      <td>206</td>\n",
       "    </tr>\n",
       "    <tr>\n",
       "      <th>4</th>\n",
       "      <td>50</td>\n",
       "      <td>1</td>\n",
       "      <td>23.0</td>\n",
       "      <td>101.00</td>\n",
       "      <td>192</td>\n",
       "      <td>125.4</td>\n",
       "      <td>52.0</td>\n",
       "      <td>4.00</td>\n",
       "      <td>4.2905</td>\n",
       "      <td>80</td>\n",
       "      <td>135</td>\n",
       "    </tr>\n",
       "    <tr>\n",
       "      <th>...</th>\n",
       "      <td>...</td>\n",
       "      <td>...</td>\n",
       "      <td>...</td>\n",
       "      <td>...</td>\n",
       "      <td>...</td>\n",
       "      <td>...</td>\n",
       "      <td>...</td>\n",
       "      <td>...</td>\n",
       "      <td>...</td>\n",
       "      <td>...</td>\n",
       "      <td>...</td>\n",
       "    </tr>\n",
       "    <tr>\n",
       "      <th>437</th>\n",
       "      <td>60</td>\n",
       "      <td>2</td>\n",
       "      <td>28.2</td>\n",
       "      <td>112.00</td>\n",
       "      <td>185</td>\n",
       "      <td>113.8</td>\n",
       "      <td>42.0</td>\n",
       "      <td>4.00</td>\n",
       "      <td>4.9836</td>\n",
       "      <td>93</td>\n",
       "      <td>178</td>\n",
       "    </tr>\n",
       "    <tr>\n",
       "      <th>438</th>\n",
       "      <td>47</td>\n",
       "      <td>2</td>\n",
       "      <td>24.9</td>\n",
       "      <td>75.00</td>\n",
       "      <td>225</td>\n",
       "      <td>166.0</td>\n",
       "      <td>42.0</td>\n",
       "      <td>5.00</td>\n",
       "      <td>4.4427</td>\n",
       "      <td>102</td>\n",
       "      <td>104</td>\n",
       "    </tr>\n",
       "    <tr>\n",
       "      <th>439</th>\n",
       "      <td>60</td>\n",
       "      <td>2</td>\n",
       "      <td>24.9</td>\n",
       "      <td>99.67</td>\n",
       "      <td>162</td>\n",
       "      <td>106.6</td>\n",
       "      <td>43.0</td>\n",
       "      <td>3.77</td>\n",
       "      <td>4.1271</td>\n",
       "      <td>95</td>\n",
       "      <td>132</td>\n",
       "    </tr>\n",
       "    <tr>\n",
       "      <th>440</th>\n",
       "      <td>36</td>\n",
       "      <td>1</td>\n",
       "      <td>30.0</td>\n",
       "      <td>95.00</td>\n",
       "      <td>201</td>\n",
       "      <td>125.2</td>\n",
       "      <td>42.0</td>\n",
       "      <td>4.79</td>\n",
       "      <td>5.1299</td>\n",
       "      <td>85</td>\n",
       "      <td>220</td>\n",
       "    </tr>\n",
       "    <tr>\n",
       "      <th>441</th>\n",
       "      <td>36</td>\n",
       "      <td>1</td>\n",
       "      <td>19.6</td>\n",
       "      <td>71.00</td>\n",
       "      <td>250</td>\n",
       "      <td>133.2</td>\n",
       "      <td>97.0</td>\n",
       "      <td>3.00</td>\n",
       "      <td>4.5951</td>\n",
       "      <td>92</td>\n",
       "      <td>57</td>\n",
       "    </tr>\n",
       "  </tbody>\n",
       "</table>\n",
       "<p>442 rows × 11 columns</p>\n",
       "</div>"
      ],
      "text/plain": [
       "     AGE  SEX   BMI      BP   S1     S2    S3    S4      S5   S6    Y\n",
       "0     59    2  32.1  101.00  157   93.2  38.0  4.00  4.8598   87  151\n",
       "1     48    1  21.6   87.00  183  103.2  70.0  3.00  3.8918   69   75\n",
       "2     72    2  30.5   93.00  156   93.6  41.0  4.00  4.6728   85  141\n",
       "3     24    1  25.3   84.00  198  131.4  40.0  5.00  4.8903   89  206\n",
       "4     50    1  23.0  101.00  192  125.4  52.0  4.00  4.2905   80  135\n",
       "..   ...  ...   ...     ...  ...    ...   ...   ...     ...  ...  ...\n",
       "437   60    2  28.2  112.00  185  113.8  42.0  4.00  4.9836   93  178\n",
       "438   47    2  24.9   75.00  225  166.0  42.0  5.00  4.4427  102  104\n",
       "439   60    2  24.9   99.67  162  106.6  43.0  3.77  4.1271   95  132\n",
       "440   36    1  30.0   95.00  201  125.2  42.0  4.79  5.1299   85  220\n",
       "441   36    1  19.6   71.00  250  133.2  97.0  3.00  4.5951   92   57\n",
       "\n",
       "[442 rows x 11 columns]"
      ]
     },
     "execution_count": 4,
     "metadata": {},
     "output_type": "execute_result"
    }
   ],
   "source": [
    "import pandas as pd\n",
    "\n",
    "diabetes= pd.read_csv(\n",
    "    \"diabetes.tab\",\n",
    "    sep=\"\\t\" #re-formatted the dataframe to seperate columns\n",
    ")\n",
    "diabetes \n",
    "\n",
    "#KEY: AGE (yrs), SEX, BMI- body mass index, BP- blood pressure, S1- total serum cholesterol, S2- low-density lipoproteins, S3- high-density lipoproteins, S4- total cholesterol/HDL, S5- possibly log of serum triglycerides level, S6- blood sugar level, Y- disease progression one year after baseline"
   ]
  },
  {
   "cell_type": "markdown",
   "id": "f9c34400-1eaf-48eb-a201-98727456ef3c",
   "metadata": {},
   "source": [
    "# FIND MEAN OF VARIABLES"
   ]
  },
  {
   "cell_type": "code",
   "execution_count": 5,
   "id": "db355f14-579f-4fcc-a4bb-377aba66b07e",
   "metadata": {},
   "outputs": [
    {
     "data": {
      "text/plain": [
       "AGE     48.518100\n",
       "SEX      1.468326\n",
       "BMI     26.375792\n",
       "BP      94.647014\n",
       "S1     189.140271\n",
       "S2     115.439140\n",
       "S3      49.788462\n",
       "S4       4.070249\n",
       "S5       4.641411\n",
       "S6      91.260181\n",
       "Y      152.133484\n",
       "dtype: float64"
      ]
     },
     "execution_count": 5,
     "metadata": {},
     "output_type": "execute_result"
    }
   ],
   "source": [
    "diabetes.mean()"
   ]
  },
  {
   "cell_type": "markdown",
   "id": "8558e28b-567f-4a23-8d75-c670d28aafea",
   "metadata": {},
   "source": [
    "# CREATE FILTER FOR SEX"
   ]
  },
  {
   "cell_type": "code",
   "execution_count": 6,
   "id": "cd5210db-888a-42c3-aef3-cce07858d2de",
   "metadata": {},
   "outputs": [
    {
     "data": {
      "text/plain": [
       "0      False\n",
       "1       True\n",
       "2      False\n",
       "3       True\n",
       "4       True\n",
       "       ...  \n",
       "437    False\n",
       "438    False\n",
       "439    False\n",
       "440     True\n",
       "441     True\n",
       "Name: SEX, Length: 442, dtype: bool"
      ]
     },
     "execution_count": 6,
     "metadata": {},
     "output_type": "execute_result"
    }
   ],
   "source": [
    "sex1_filter = diabetes[\"SEX\"] == 1 #filtered for sex although which number corresponds to male/female is unknown\n",
    "sex1_filter"
   ]
  },
  {
   "cell_type": "code",
   "execution_count": 7,
   "id": "266b8a04-425e-4a19-b763-d86584d4d624",
   "metadata": {},
   "outputs": [
    {
     "data": {
      "text/html": [
       "<div>\n",
       "<style scoped>\n",
       "    .dataframe tbody tr th:only-of-type {\n",
       "        vertical-align: middle;\n",
       "    }\n",
       "\n",
       "    .dataframe tbody tr th {\n",
       "        vertical-align: top;\n",
       "    }\n",
       "\n",
       "    .dataframe thead th {\n",
       "        text-align: right;\n",
       "    }\n",
       "</style>\n",
       "<table border=\"1\" class=\"dataframe\">\n",
       "  <thead>\n",
       "    <tr style=\"text-align: right;\">\n",
       "      <th></th>\n",
       "      <th>AGE</th>\n",
       "      <th>SEX</th>\n",
       "      <th>BMI</th>\n",
       "      <th>BP</th>\n",
       "      <th>S1</th>\n",
       "      <th>S2</th>\n",
       "      <th>S3</th>\n",
       "      <th>S4</th>\n",
       "      <th>S5</th>\n",
       "      <th>S6</th>\n",
       "      <th>Y</th>\n",
       "    </tr>\n",
       "  </thead>\n",
       "  <tbody>\n",
       "    <tr>\n",
       "      <th>1</th>\n",
       "      <td>48</td>\n",
       "      <td>1</td>\n",
       "      <td>21.6</td>\n",
       "      <td>87.0</td>\n",
       "      <td>183</td>\n",
       "      <td>103.2</td>\n",
       "      <td>70.0</td>\n",
       "      <td>3.00</td>\n",
       "      <td>3.8918</td>\n",
       "      <td>69</td>\n",
       "      <td>75</td>\n",
       "    </tr>\n",
       "    <tr>\n",
       "      <th>3</th>\n",
       "      <td>24</td>\n",
       "      <td>1</td>\n",
       "      <td>25.3</td>\n",
       "      <td>84.0</td>\n",
       "      <td>198</td>\n",
       "      <td>131.4</td>\n",
       "      <td>40.0</td>\n",
       "      <td>5.00</td>\n",
       "      <td>4.8903</td>\n",
       "      <td>89</td>\n",
       "      <td>206</td>\n",
       "    </tr>\n",
       "    <tr>\n",
       "      <th>4</th>\n",
       "      <td>50</td>\n",
       "      <td>1</td>\n",
       "      <td>23.0</td>\n",
       "      <td>101.0</td>\n",
       "      <td>192</td>\n",
       "      <td>125.4</td>\n",
       "      <td>52.0</td>\n",
       "      <td>4.00</td>\n",
       "      <td>4.2905</td>\n",
       "      <td>80</td>\n",
       "      <td>135</td>\n",
       "    </tr>\n",
       "    <tr>\n",
       "      <th>5</th>\n",
       "      <td>23</td>\n",
       "      <td>1</td>\n",
       "      <td>22.6</td>\n",
       "      <td>89.0</td>\n",
       "      <td>139</td>\n",
       "      <td>64.8</td>\n",
       "      <td>61.0</td>\n",
       "      <td>2.00</td>\n",
       "      <td>4.1897</td>\n",
       "      <td>68</td>\n",
       "      <td>97</td>\n",
       "    </tr>\n",
       "    <tr>\n",
       "      <th>9</th>\n",
       "      <td>29</td>\n",
       "      <td>1</td>\n",
       "      <td>30.0</td>\n",
       "      <td>85.0</td>\n",
       "      <td>180</td>\n",
       "      <td>93.4</td>\n",
       "      <td>43.0</td>\n",
       "      <td>4.00</td>\n",
       "      <td>5.3845</td>\n",
       "      <td>88</td>\n",
       "      <td>310</td>\n",
       "    </tr>\n",
       "    <tr>\n",
       "      <th>...</th>\n",
       "      <td>...</td>\n",
       "      <td>...</td>\n",
       "      <td>...</td>\n",
       "      <td>...</td>\n",
       "      <td>...</td>\n",
       "      <td>...</td>\n",
       "      <td>...</td>\n",
       "      <td>...</td>\n",
       "      <td>...</td>\n",
       "      <td>...</td>\n",
       "      <td>...</td>\n",
       "    </tr>\n",
       "    <tr>\n",
       "      <th>434</th>\n",
       "      <td>53</td>\n",
       "      <td>1</td>\n",
       "      <td>26.5</td>\n",
       "      <td>97.0</td>\n",
       "      <td>193</td>\n",
       "      <td>122.4</td>\n",
       "      <td>58.0</td>\n",
       "      <td>3.00</td>\n",
       "      <td>4.1431</td>\n",
       "      <td>99</td>\n",
       "      <td>49</td>\n",
       "    </tr>\n",
       "    <tr>\n",
       "      <th>435</th>\n",
       "      <td>45</td>\n",
       "      <td>1</td>\n",
       "      <td>24.2</td>\n",
       "      <td>83.0</td>\n",
       "      <td>177</td>\n",
       "      <td>118.4</td>\n",
       "      <td>45.0</td>\n",
       "      <td>4.00</td>\n",
       "      <td>4.2195</td>\n",
       "      <td>82</td>\n",
       "      <td>64</td>\n",
       "    </tr>\n",
       "    <tr>\n",
       "      <th>436</th>\n",
       "      <td>33</td>\n",
       "      <td>1</td>\n",
       "      <td>19.5</td>\n",
       "      <td>80.0</td>\n",
       "      <td>171</td>\n",
       "      <td>85.4</td>\n",
       "      <td>75.0</td>\n",
       "      <td>2.00</td>\n",
       "      <td>3.9703</td>\n",
       "      <td>80</td>\n",
       "      <td>48</td>\n",
       "    </tr>\n",
       "    <tr>\n",
       "      <th>440</th>\n",
       "      <td>36</td>\n",
       "      <td>1</td>\n",
       "      <td>30.0</td>\n",
       "      <td>95.0</td>\n",
       "      <td>201</td>\n",
       "      <td>125.2</td>\n",
       "      <td>42.0</td>\n",
       "      <td>4.79</td>\n",
       "      <td>5.1299</td>\n",
       "      <td>85</td>\n",
       "      <td>220</td>\n",
       "    </tr>\n",
       "    <tr>\n",
       "      <th>441</th>\n",
       "      <td>36</td>\n",
       "      <td>1</td>\n",
       "      <td>19.6</td>\n",
       "      <td>71.0</td>\n",
       "      <td>250</td>\n",
       "      <td>133.2</td>\n",
       "      <td>97.0</td>\n",
       "      <td>3.00</td>\n",
       "      <td>4.5951</td>\n",
       "      <td>92</td>\n",
       "      <td>57</td>\n",
       "    </tr>\n",
       "  </tbody>\n",
       "</table>\n",
       "<p>235 rows × 11 columns</p>\n",
       "</div>"
      ],
      "text/plain": [
       "     AGE  SEX   BMI     BP   S1     S2    S3    S4      S5  S6    Y\n",
       "1     48    1  21.6   87.0  183  103.2  70.0  3.00  3.8918  69   75\n",
       "3     24    1  25.3   84.0  198  131.4  40.0  5.00  4.8903  89  206\n",
       "4     50    1  23.0  101.0  192  125.4  52.0  4.00  4.2905  80  135\n",
       "5     23    1  22.6   89.0  139   64.8  61.0  2.00  4.1897  68   97\n",
       "9     29    1  30.0   85.0  180   93.4  43.0  4.00  5.3845  88  310\n",
       "..   ...  ...   ...    ...  ...    ...   ...   ...     ...  ..  ...\n",
       "434   53    1  26.5   97.0  193  122.4  58.0  3.00  4.1431  99   49\n",
       "435   45    1  24.2   83.0  177  118.4  45.0  4.00  4.2195  82   64\n",
       "436   33    1  19.5   80.0  171   85.4  75.0  2.00  3.9703  80   48\n",
       "440   36    1  30.0   95.0  201  125.2  42.0  4.79  5.1299  85  220\n",
       "441   36    1  19.6   71.0  250  133.2  97.0  3.00  4.5951  92   57\n",
       "\n",
       "[235 rows x 11 columns]"
      ]
     },
     "execution_count": 7,
     "metadata": {},
     "output_type": "execute_result"
    }
   ],
   "source": [
    "diabetes[sex1_filter]"
   ]
  },
  {
   "cell_type": "code",
   "execution_count": 8,
   "id": "573e645a-f668-413e-afec-50f0f3240098",
   "metadata": {},
   "outputs": [
    {
     "data": {
      "text/plain": [
       "0       True\n",
       "1      False\n",
       "2       True\n",
       "3      False\n",
       "4      False\n",
       "       ...  \n",
       "437     True\n",
       "438     True\n",
       "439     True\n",
       "440    False\n",
       "441    False\n",
       "Name: SEX, Length: 442, dtype: bool"
      ]
     },
     "execution_count": 8,
     "metadata": {},
     "output_type": "execute_result"
    }
   ],
   "source": [
    "sex2_filter = diabetes[\"SEX\"] == 2\n",
    "sex2_filter"
   ]
  },
  {
   "cell_type": "code",
   "execution_count": 9,
   "id": "2be9d1b4-e8b9-4b3e-89d1-5bff344dfb7a",
   "metadata": {},
   "outputs": [
    {
     "data": {
      "text/html": [
       "<div>\n",
       "<style scoped>\n",
       "    .dataframe tbody tr th:only-of-type {\n",
       "        vertical-align: middle;\n",
       "    }\n",
       "\n",
       "    .dataframe tbody tr th {\n",
       "        vertical-align: top;\n",
       "    }\n",
       "\n",
       "    .dataframe thead th {\n",
       "        text-align: right;\n",
       "    }\n",
       "</style>\n",
       "<table border=\"1\" class=\"dataframe\">\n",
       "  <thead>\n",
       "    <tr style=\"text-align: right;\">\n",
       "      <th></th>\n",
       "      <th>AGE</th>\n",
       "      <th>SEX</th>\n",
       "      <th>BMI</th>\n",
       "      <th>BP</th>\n",
       "      <th>S1</th>\n",
       "      <th>S2</th>\n",
       "      <th>S3</th>\n",
       "      <th>S4</th>\n",
       "      <th>S5</th>\n",
       "      <th>S6</th>\n",
       "      <th>Y</th>\n",
       "    </tr>\n",
       "  </thead>\n",
       "  <tbody>\n",
       "    <tr>\n",
       "      <th>0</th>\n",
       "      <td>59</td>\n",
       "      <td>2</td>\n",
       "      <td>32.1</td>\n",
       "      <td>101.00</td>\n",
       "      <td>157</td>\n",
       "      <td>93.2</td>\n",
       "      <td>38.0</td>\n",
       "      <td>4.00</td>\n",
       "      <td>4.8598</td>\n",
       "      <td>87</td>\n",
       "      <td>151</td>\n",
       "    </tr>\n",
       "    <tr>\n",
       "      <th>2</th>\n",
       "      <td>72</td>\n",
       "      <td>2</td>\n",
       "      <td>30.5</td>\n",
       "      <td>93.00</td>\n",
       "      <td>156</td>\n",
       "      <td>93.6</td>\n",
       "      <td>41.0</td>\n",
       "      <td>4.00</td>\n",
       "      <td>4.6728</td>\n",
       "      <td>85</td>\n",
       "      <td>141</td>\n",
       "    </tr>\n",
       "    <tr>\n",
       "      <th>6</th>\n",
       "      <td>36</td>\n",
       "      <td>2</td>\n",
       "      <td>22.0</td>\n",
       "      <td>90.00</td>\n",
       "      <td>160</td>\n",
       "      <td>99.6</td>\n",
       "      <td>50.0</td>\n",
       "      <td>3.00</td>\n",
       "      <td>3.9512</td>\n",
       "      <td>82</td>\n",
       "      <td>138</td>\n",
       "    </tr>\n",
       "    <tr>\n",
       "      <th>7</th>\n",
       "      <td>66</td>\n",
       "      <td>2</td>\n",
       "      <td>26.2</td>\n",
       "      <td>114.00</td>\n",
       "      <td>255</td>\n",
       "      <td>185.0</td>\n",
       "      <td>56.0</td>\n",
       "      <td>4.55</td>\n",
       "      <td>4.2485</td>\n",
       "      <td>92</td>\n",
       "      <td>63</td>\n",
       "    </tr>\n",
       "    <tr>\n",
       "      <th>8</th>\n",
       "      <td>60</td>\n",
       "      <td>2</td>\n",
       "      <td>32.1</td>\n",
       "      <td>83.00</td>\n",
       "      <td>179</td>\n",
       "      <td>119.4</td>\n",
       "      <td>42.0</td>\n",
       "      <td>4.00</td>\n",
       "      <td>4.4773</td>\n",
       "      <td>94</td>\n",
       "      <td>110</td>\n",
       "    </tr>\n",
       "    <tr>\n",
       "      <th>...</th>\n",
       "      <td>...</td>\n",
       "      <td>...</td>\n",
       "      <td>...</td>\n",
       "      <td>...</td>\n",
       "      <td>...</td>\n",
       "      <td>...</td>\n",
       "      <td>...</td>\n",
       "      <td>...</td>\n",
       "      <td>...</td>\n",
       "      <td>...</td>\n",
       "      <td>...</td>\n",
       "    </tr>\n",
       "    <tr>\n",
       "      <th>428</th>\n",
       "      <td>62</td>\n",
       "      <td>2</td>\n",
       "      <td>34.6</td>\n",
       "      <td>120.00</td>\n",
       "      <td>215</td>\n",
       "      <td>129.2</td>\n",
       "      <td>43.0</td>\n",
       "      <td>5.00</td>\n",
       "      <td>5.3660</td>\n",
       "      <td>123</td>\n",
       "      <td>310</td>\n",
       "    </tr>\n",
       "    <tr>\n",
       "      <th>431</th>\n",
       "      <td>68</td>\n",
       "      <td>2</td>\n",
       "      <td>23.5</td>\n",
       "      <td>101.00</td>\n",
       "      <td>162</td>\n",
       "      <td>85.4</td>\n",
       "      <td>59.0</td>\n",
       "      <td>3.00</td>\n",
       "      <td>4.4773</td>\n",
       "      <td>91</td>\n",
       "      <td>66</td>\n",
       "    </tr>\n",
       "    <tr>\n",
       "      <th>437</th>\n",
       "      <td>60</td>\n",
       "      <td>2</td>\n",
       "      <td>28.2</td>\n",
       "      <td>112.00</td>\n",
       "      <td>185</td>\n",
       "      <td>113.8</td>\n",
       "      <td>42.0</td>\n",
       "      <td>4.00</td>\n",
       "      <td>4.9836</td>\n",
       "      <td>93</td>\n",
       "      <td>178</td>\n",
       "    </tr>\n",
       "    <tr>\n",
       "      <th>438</th>\n",
       "      <td>47</td>\n",
       "      <td>2</td>\n",
       "      <td>24.9</td>\n",
       "      <td>75.00</td>\n",
       "      <td>225</td>\n",
       "      <td>166.0</td>\n",
       "      <td>42.0</td>\n",
       "      <td>5.00</td>\n",
       "      <td>4.4427</td>\n",
       "      <td>102</td>\n",
       "      <td>104</td>\n",
       "    </tr>\n",
       "    <tr>\n",
       "      <th>439</th>\n",
       "      <td>60</td>\n",
       "      <td>2</td>\n",
       "      <td>24.9</td>\n",
       "      <td>99.67</td>\n",
       "      <td>162</td>\n",
       "      <td>106.6</td>\n",
       "      <td>43.0</td>\n",
       "      <td>3.77</td>\n",
       "      <td>4.1271</td>\n",
       "      <td>95</td>\n",
       "      <td>132</td>\n",
       "    </tr>\n",
       "  </tbody>\n",
       "</table>\n",
       "<p>207 rows × 11 columns</p>\n",
       "</div>"
      ],
      "text/plain": [
       "     AGE  SEX   BMI      BP   S1     S2    S3    S4      S5   S6    Y\n",
       "0     59    2  32.1  101.00  157   93.2  38.0  4.00  4.8598   87  151\n",
       "2     72    2  30.5   93.00  156   93.6  41.0  4.00  4.6728   85  141\n",
       "6     36    2  22.0   90.00  160   99.6  50.0  3.00  3.9512   82  138\n",
       "7     66    2  26.2  114.00  255  185.0  56.0  4.55  4.2485   92   63\n",
       "8     60    2  32.1   83.00  179  119.4  42.0  4.00  4.4773   94  110\n",
       "..   ...  ...   ...     ...  ...    ...   ...   ...     ...  ...  ...\n",
       "428   62    2  34.6  120.00  215  129.2  43.0  5.00  5.3660  123  310\n",
       "431   68    2  23.5  101.00  162   85.4  59.0  3.00  4.4773   91   66\n",
       "437   60    2  28.2  112.00  185  113.8  42.0  4.00  4.9836   93  178\n",
       "438   47    2  24.9   75.00  225  166.0  42.0  5.00  4.4427  102  104\n",
       "439   60    2  24.9   99.67  162  106.6  43.0  3.77  4.1271   95  132\n",
       "\n",
       "[207 rows x 11 columns]"
      ]
     },
     "execution_count": 9,
     "metadata": {},
     "output_type": "execute_result"
    }
   ],
   "source": [
    "diabetes[sex2_filter]"
   ]
  },
  {
   "cell_type": "markdown",
   "id": "9e7c7c2f-33ae-48e4-b888-4885f1563a1b",
   "metadata": {},
   "source": [
    "# CREATE FILTER FOR OBESITY (USING BMI)"
   ]
  },
  {
   "cell_type": "code",
   "execution_count": 10,
   "id": "e0ee3dc9-7e7a-4523-a0e9-6572e0644ec3",
   "metadata": {},
   "outputs": [
    {
     "data": {
      "text/html": [
       "<div>\n",
       "<style scoped>\n",
       "    .dataframe tbody tr th:only-of-type {\n",
       "        vertical-align: middle;\n",
       "    }\n",
       "\n",
       "    .dataframe tbody tr th {\n",
       "        vertical-align: top;\n",
       "    }\n",
       "\n",
       "    .dataframe thead th {\n",
       "        text-align: right;\n",
       "    }\n",
       "</style>\n",
       "<table border=\"1\" class=\"dataframe\">\n",
       "  <thead>\n",
       "    <tr style=\"text-align: right;\">\n",
       "      <th></th>\n",
       "      <th>AGE</th>\n",
       "      <th>SEX</th>\n",
       "      <th>BMI</th>\n",
       "      <th>BP</th>\n",
       "      <th>S1</th>\n",
       "      <th>S2</th>\n",
       "      <th>S3</th>\n",
       "      <th>S4</th>\n",
       "      <th>S5</th>\n",
       "      <th>S6</th>\n",
       "      <th>Y</th>\n",
       "    </tr>\n",
       "  </thead>\n",
       "  <tbody>\n",
       "    <tr>\n",
       "      <th>0</th>\n",
       "      <td>59</td>\n",
       "      <td>2</td>\n",
       "      <td>32.1</td>\n",
       "      <td>101.0</td>\n",
       "      <td>157</td>\n",
       "      <td>93.2</td>\n",
       "      <td>38.0</td>\n",
       "      <td>4.00</td>\n",
       "      <td>4.8598</td>\n",
       "      <td>87</td>\n",
       "      <td>151</td>\n",
       "    </tr>\n",
       "    <tr>\n",
       "      <th>2</th>\n",
       "      <td>72</td>\n",
       "      <td>2</td>\n",
       "      <td>30.5</td>\n",
       "      <td>93.0</td>\n",
       "      <td>156</td>\n",
       "      <td>93.6</td>\n",
       "      <td>41.0</td>\n",
       "      <td>4.00</td>\n",
       "      <td>4.6728</td>\n",
       "      <td>85</td>\n",
       "      <td>141</td>\n",
       "    </tr>\n",
       "    <tr>\n",
       "      <th>8</th>\n",
       "      <td>60</td>\n",
       "      <td>2</td>\n",
       "      <td>32.1</td>\n",
       "      <td>83.0</td>\n",
       "      <td>179</td>\n",
       "      <td>119.4</td>\n",
       "      <td>42.0</td>\n",
       "      <td>4.00</td>\n",
       "      <td>4.4773</td>\n",
       "      <td>94</td>\n",
       "      <td>110</td>\n",
       "    </tr>\n",
       "    <tr>\n",
       "      <th>9</th>\n",
       "      <td>29</td>\n",
       "      <td>1</td>\n",
       "      <td>30.0</td>\n",
       "      <td>85.0</td>\n",
       "      <td>180</td>\n",
       "      <td>93.4</td>\n",
       "      <td>43.0</td>\n",
       "      <td>4.00</td>\n",
       "      <td>5.3845</td>\n",
       "      <td>88</td>\n",
       "      <td>310</td>\n",
       "    </tr>\n",
       "    <tr>\n",
       "      <th>16</th>\n",
       "      <td>47</td>\n",
       "      <td>1</td>\n",
       "      <td>30.3</td>\n",
       "      <td>109.0</td>\n",
       "      <td>207</td>\n",
       "      <td>100.2</td>\n",
       "      <td>70.0</td>\n",
       "      <td>3.00</td>\n",
       "      <td>5.2149</td>\n",
       "      <td>98</td>\n",
       "      <td>166</td>\n",
       "    </tr>\n",
       "    <tr>\n",
       "      <th>...</th>\n",
       "      <td>...</td>\n",
       "      <td>...</td>\n",
       "      <td>...</td>\n",
       "      <td>...</td>\n",
       "      <td>...</td>\n",
       "      <td>...</td>\n",
       "      <td>...</td>\n",
       "      <td>...</td>\n",
       "      <td>...</td>\n",
       "      <td>...</td>\n",
       "      <td>...</td>\n",
       "    </tr>\n",
       "    <tr>\n",
       "      <th>417</th>\n",
       "      <td>34</td>\n",
       "      <td>1</td>\n",
       "      <td>33.0</td>\n",
       "      <td>73.0</td>\n",
       "      <td>178</td>\n",
       "      <td>114.6</td>\n",
       "      <td>51.0</td>\n",
       "      <td>3.49</td>\n",
       "      <td>4.1271</td>\n",
       "      <td>92</td>\n",
       "      <td>55</td>\n",
       "    </tr>\n",
       "    <tr>\n",
       "      <th>422</th>\n",
       "      <td>27</td>\n",
       "      <td>2</td>\n",
       "      <td>33.6</td>\n",
       "      <td>110.0</td>\n",
       "      <td>246</td>\n",
       "      <td>156.6</td>\n",
       "      <td>57.0</td>\n",
       "      <td>4.00</td>\n",
       "      <td>5.0876</td>\n",
       "      <td>89</td>\n",
       "      <td>233</td>\n",
       "    </tr>\n",
       "    <tr>\n",
       "      <th>428</th>\n",
       "      <td>62</td>\n",
       "      <td>2</td>\n",
       "      <td>34.6</td>\n",
       "      <td>120.0</td>\n",
       "      <td>215</td>\n",
       "      <td>129.2</td>\n",
       "      <td>43.0</td>\n",
       "      <td>5.00</td>\n",
       "      <td>5.3660</td>\n",
       "      <td>123</td>\n",
       "      <td>310</td>\n",
       "    </tr>\n",
       "    <tr>\n",
       "      <th>432</th>\n",
       "      <td>51</td>\n",
       "      <td>1</td>\n",
       "      <td>31.5</td>\n",
       "      <td>93.0</td>\n",
       "      <td>231</td>\n",
       "      <td>144.0</td>\n",
       "      <td>49.0</td>\n",
       "      <td>4.70</td>\n",
       "      <td>5.2523</td>\n",
       "      <td>117</td>\n",
       "      <td>173</td>\n",
       "    </tr>\n",
       "    <tr>\n",
       "      <th>440</th>\n",
       "      <td>36</td>\n",
       "      <td>1</td>\n",
       "      <td>30.0</td>\n",
       "      <td>95.0</td>\n",
       "      <td>201</td>\n",
       "      <td>125.2</td>\n",
       "      <td>42.0</td>\n",
       "      <td>4.79</td>\n",
       "      <td>5.1299</td>\n",
       "      <td>85</td>\n",
       "      <td>220</td>\n",
       "    </tr>\n",
       "  </tbody>\n",
       "</table>\n",
       "<p>99 rows × 11 columns</p>\n",
       "</div>"
      ],
      "text/plain": [
       "     AGE  SEX   BMI     BP   S1     S2    S3    S4      S5   S6    Y\n",
       "0     59    2  32.1  101.0  157   93.2  38.0  4.00  4.8598   87  151\n",
       "2     72    2  30.5   93.0  156   93.6  41.0  4.00  4.6728   85  141\n",
       "8     60    2  32.1   83.0  179  119.4  42.0  4.00  4.4773   94  110\n",
       "9     29    1  30.0   85.0  180   93.4  43.0  4.00  5.3845   88  310\n",
       "16    47    1  30.3  109.0  207  100.2  70.0  3.00  5.2149   98  166\n",
       "..   ...  ...   ...    ...  ...    ...   ...   ...     ...  ...  ...\n",
       "417   34    1  33.0   73.0  178  114.6  51.0  3.49  4.1271   92   55\n",
       "422   27    2  33.6  110.0  246  156.6  57.0  4.00  5.0876   89  233\n",
       "428   62    2  34.6  120.0  215  129.2  43.0  5.00  5.3660  123  310\n",
       "432   51    1  31.5   93.0  231  144.0  49.0  4.70  5.2523  117  173\n",
       "440   36    1  30.0   95.0  201  125.2  42.0  4.79  5.1299   85  220\n",
       "\n",
       "[99 rows x 11 columns]"
      ]
     },
     "execution_count": 10,
     "metadata": {},
     "output_type": "execute_result"
    }
   ],
   "source": [
    "obesity_filter= diabetes[\"BMI\"]>= 30\n",
    "obesity_filter #created a filter for individuals with BMI equal to or more than 30 kg/m^2 (categorised as obese according to NHS, 2019)\n",
    "diabetes[obesity_filter]"
   ]
  },
  {
   "cell_type": "code",
   "execution_count": 11,
   "id": "7f90bd46-6f60-4838-9967-d55b7c626beb",
   "metadata": {},
   "outputs": [
    {
     "data": {
      "text/html": [
       "<div>\n",
       "<style scoped>\n",
       "    .dataframe tbody tr th:only-of-type {\n",
       "        vertical-align: middle;\n",
       "    }\n",
       "\n",
       "    .dataframe tbody tr th {\n",
       "        vertical-align: top;\n",
       "    }\n",
       "\n",
       "    .dataframe thead th {\n",
       "        text-align: right;\n",
       "    }\n",
       "</style>\n",
       "<table border=\"1\" class=\"dataframe\">\n",
       "  <thead>\n",
       "    <tr style=\"text-align: right;\">\n",
       "      <th></th>\n",
       "      <th>AGE</th>\n",
       "      <th>SEX</th>\n",
       "      <th>BMI</th>\n",
       "      <th>BP</th>\n",
       "      <th>S1</th>\n",
       "      <th>S2</th>\n",
       "      <th>S3</th>\n",
       "      <th>S4</th>\n",
       "      <th>S5</th>\n",
       "      <th>S6</th>\n",
       "      <th>Y</th>\n",
       "    </tr>\n",
       "  </thead>\n",
       "  <tbody>\n",
       "    <tr>\n",
       "      <th>1</th>\n",
       "      <td>48</td>\n",
       "      <td>1</td>\n",
       "      <td>21.6</td>\n",
       "      <td>87.00</td>\n",
       "      <td>183</td>\n",
       "      <td>103.2</td>\n",
       "      <td>70.0</td>\n",
       "      <td>3.00</td>\n",
       "      <td>3.8918</td>\n",
       "      <td>69</td>\n",
       "      <td>75</td>\n",
       "    </tr>\n",
       "    <tr>\n",
       "      <th>3</th>\n",
       "      <td>24</td>\n",
       "      <td>1</td>\n",
       "      <td>25.3</td>\n",
       "      <td>84.00</td>\n",
       "      <td>198</td>\n",
       "      <td>131.4</td>\n",
       "      <td>40.0</td>\n",
       "      <td>5.00</td>\n",
       "      <td>4.8903</td>\n",
       "      <td>89</td>\n",
       "      <td>206</td>\n",
       "    </tr>\n",
       "    <tr>\n",
       "      <th>4</th>\n",
       "      <td>50</td>\n",
       "      <td>1</td>\n",
       "      <td>23.0</td>\n",
       "      <td>101.00</td>\n",
       "      <td>192</td>\n",
       "      <td>125.4</td>\n",
       "      <td>52.0</td>\n",
       "      <td>4.00</td>\n",
       "      <td>4.2905</td>\n",
       "      <td>80</td>\n",
       "      <td>135</td>\n",
       "    </tr>\n",
       "    <tr>\n",
       "      <th>5</th>\n",
       "      <td>23</td>\n",
       "      <td>1</td>\n",
       "      <td>22.6</td>\n",
       "      <td>89.00</td>\n",
       "      <td>139</td>\n",
       "      <td>64.8</td>\n",
       "      <td>61.0</td>\n",
       "      <td>2.00</td>\n",
       "      <td>4.1897</td>\n",
       "      <td>68</td>\n",
       "      <td>97</td>\n",
       "    </tr>\n",
       "    <tr>\n",
       "      <th>6</th>\n",
       "      <td>36</td>\n",
       "      <td>2</td>\n",
       "      <td>22.0</td>\n",
       "      <td>90.00</td>\n",
       "      <td>160</td>\n",
       "      <td>99.6</td>\n",
       "      <td>50.0</td>\n",
       "      <td>3.00</td>\n",
       "      <td>3.9512</td>\n",
       "      <td>82</td>\n",
       "      <td>138</td>\n",
       "    </tr>\n",
       "    <tr>\n",
       "      <th>...</th>\n",
       "      <td>...</td>\n",
       "      <td>...</td>\n",
       "      <td>...</td>\n",
       "      <td>...</td>\n",
       "      <td>...</td>\n",
       "      <td>...</td>\n",
       "      <td>...</td>\n",
       "      <td>...</td>\n",
       "      <td>...</td>\n",
       "      <td>...</td>\n",
       "      <td>...</td>\n",
       "    </tr>\n",
       "    <tr>\n",
       "      <th>436</th>\n",
       "      <td>33</td>\n",
       "      <td>1</td>\n",
       "      <td>19.5</td>\n",
       "      <td>80.00</td>\n",
       "      <td>171</td>\n",
       "      <td>85.4</td>\n",
       "      <td>75.0</td>\n",
       "      <td>2.00</td>\n",
       "      <td>3.9703</td>\n",
       "      <td>80</td>\n",
       "      <td>48</td>\n",
       "    </tr>\n",
       "    <tr>\n",
       "      <th>437</th>\n",
       "      <td>60</td>\n",
       "      <td>2</td>\n",
       "      <td>28.2</td>\n",
       "      <td>112.00</td>\n",
       "      <td>185</td>\n",
       "      <td>113.8</td>\n",
       "      <td>42.0</td>\n",
       "      <td>4.00</td>\n",
       "      <td>4.9836</td>\n",
       "      <td>93</td>\n",
       "      <td>178</td>\n",
       "    </tr>\n",
       "    <tr>\n",
       "      <th>438</th>\n",
       "      <td>47</td>\n",
       "      <td>2</td>\n",
       "      <td>24.9</td>\n",
       "      <td>75.00</td>\n",
       "      <td>225</td>\n",
       "      <td>166.0</td>\n",
       "      <td>42.0</td>\n",
       "      <td>5.00</td>\n",
       "      <td>4.4427</td>\n",
       "      <td>102</td>\n",
       "      <td>104</td>\n",
       "    </tr>\n",
       "    <tr>\n",
       "      <th>439</th>\n",
       "      <td>60</td>\n",
       "      <td>2</td>\n",
       "      <td>24.9</td>\n",
       "      <td>99.67</td>\n",
       "      <td>162</td>\n",
       "      <td>106.6</td>\n",
       "      <td>43.0</td>\n",
       "      <td>3.77</td>\n",
       "      <td>4.1271</td>\n",
       "      <td>95</td>\n",
       "      <td>132</td>\n",
       "    </tr>\n",
       "    <tr>\n",
       "      <th>441</th>\n",
       "      <td>36</td>\n",
       "      <td>1</td>\n",
       "      <td>19.6</td>\n",
       "      <td>71.00</td>\n",
       "      <td>250</td>\n",
       "      <td>133.2</td>\n",
       "      <td>97.0</td>\n",
       "      <td>3.00</td>\n",
       "      <td>4.5951</td>\n",
       "      <td>92</td>\n",
       "      <td>57</td>\n",
       "    </tr>\n",
       "  </tbody>\n",
       "</table>\n",
       "<p>343 rows × 11 columns</p>\n",
       "</div>"
      ],
      "text/plain": [
       "     AGE  SEX   BMI      BP   S1     S2    S3    S4      S5   S6    Y\n",
       "1     48    1  21.6   87.00  183  103.2  70.0  3.00  3.8918   69   75\n",
       "3     24    1  25.3   84.00  198  131.4  40.0  5.00  4.8903   89  206\n",
       "4     50    1  23.0  101.00  192  125.4  52.0  4.00  4.2905   80  135\n",
       "5     23    1  22.6   89.00  139   64.8  61.0  2.00  4.1897   68   97\n",
       "6     36    2  22.0   90.00  160   99.6  50.0  3.00  3.9512   82  138\n",
       "..   ...  ...   ...     ...  ...    ...   ...   ...     ...  ...  ...\n",
       "436   33    1  19.5   80.00  171   85.4  75.0  2.00  3.9703   80   48\n",
       "437   60    2  28.2  112.00  185  113.8  42.0  4.00  4.9836   93  178\n",
       "438   47    2  24.9   75.00  225  166.0  42.0  5.00  4.4427  102  104\n",
       "439   60    2  24.9   99.67  162  106.6  43.0  3.77  4.1271   95  132\n",
       "441   36    1  19.6   71.00  250  133.2  97.0  3.00  4.5951   92   57\n",
       "\n",
       "[343 rows x 11 columns]"
      ]
     },
     "execution_count": 11,
     "metadata": {},
     "output_type": "execute_result"
    }
   ],
   "source": [
    "not_obese_filter=diabetes[\"BMI\"]<= 29.9\n",
    "not_obese_filter #created a filter for individuals with BMI equal to or less than 29.9 kg/m^2 (not categorised as obese according to NHS, 2019)\n",
    "diabetes[not_obese_filter]"
   ]
  },
  {
   "cell_type": "markdown",
   "id": "2a7a67b0-4992-425f-8d1c-12c88df2ce9c",
   "metadata": {},
   "source": [
    "# PLOT BMI VS. DIABETES PROGRESSION, RELATIVE TO SEX"
   ]
  },
  {
   "cell_type": "code",
   "execution_count": 12,
   "id": "af9d1171-e607-4908-92e6-87e47ae72d52",
   "metadata": {},
   "outputs": [],
   "source": [
    "sns.set_theme()"
   ]
  },
  {
   "cell_type": "code",
   "execution_count": 13,
   "id": "237b2203-d511-44a9-ab39-37dfa50193e9",
   "metadata": {},
   "outputs": [
    {
     "data": {
      "text/plain": [
       "Text(29.92480659722223, 0.5, 'Disease progression one year post baseline')"
      ]
     },
     "execution_count": 13,
     "metadata": {},
     "output_type": "execute_result"
    },
    {
     "data": {
      "image/png": "[encoded data removed]",
      "text/plain": [
       "<Figure size 405.725x360 with 1 Axes>"
      ]
     },
     "metadata": {},
     "output_type": "display_data"
    }
   ],
   "source": [
    "#created a plot of disease progression relative to BMI, labelled for sex\n",
    "sns.relplot(data=diabetes, x=\"BMI\", y=\"Y\", hue=\"SEX\") \n",
    "plt.xlabel(\"BMI (kg/m^2)\")\n",
    "plt.ylabel(\"Disease progression one year post baseline\")\n",
    "#Y refers to disease progression one year after baseline"
   ]
  },
  {
   "cell_type": "code",
   "execution_count": 14,
   "id": "87cffa81-8f8d-4945-9e55-6aa9076888bc",
   "metadata": {},
   "outputs": [
    {
     "data": {
      "text/plain": [
       "Text(5.960000000000001, 0.5, 'Disease progression one year post baseline')"
      ]
     },
     "execution_count": 14,
     "metadata": {},
     "output_type": "execute_result"
    },
    {
     "data": {
      "image/png": "[encoded data removed]",
      "text/plain": [
       "<Figure size 360x360 with 1 Axes>"
      ]
     },
     "metadata": {},
     "output_type": "display_data"
    }
   ],
   "source": [
    "#create box plot to compare distribution of diabetes progression for both sexes\n",
    "sns.catplot(data=diabetes, x=\"SEX\", y=\"Y\", kind=\"box\")\n",
    "plt.ylabel(\"Disease progression one year post baseline\")\n"
   ]
  },
  {
   "cell_type": "markdown",
   "id": "7a7769ab-0c72-49b5-8290-3141c1d3bae7",
   "metadata": {},
   "source": [
    "# SIMPLE LINEAR REGRESSION MODELS"
   ]
  },
  {
   "cell_type": "code",
   "execution_count": 15,
   "id": "a80e117e-9661-443f-9c45-d6522ff1f8dd",
   "metadata": {},
   "outputs": [],
   "source": [
    "#BMI vs. diabetes progression model\n",
    "from sklearn.linear_model import LinearRegression\n",
    "\n",
    "model = LinearRegression(fit_intercept=True)"
   ]
  },
  {
   "cell_type": "code",
   "execution_count": 16,
   "id": "048f5620-4a92-4a09-95b3-e322dcb1960b",
   "metadata": {},
   "outputs": [
    {
     "data": {
      "text/plain": [
       "LinearRegression()"
      ]
     },
     "execution_count": 16,
     "metadata": {},
     "output_type": "execute_result"
    }
   ],
   "source": [
    "#define variables (X=predictor, y=target)\n",
    "X = diabetes[[\"BMI\"]]\n",
    "y = diabetes[\"Y\"]\n",
    "model.fit(X,y)"
   ]
  },
  {
   "cell_type": "code",
   "execution_count": 17,
   "id": "3de27d41-10fc-410e-a767-8589dc591e15",
   "metadata": {},
   "outputs": [
    {
     "data": {
      "text/plain": [
       "42.2"
      ]
     },
     "execution_count": 17,
     "metadata": {},
     "output_type": "execute_result"
    }
   ],
   "source": [
    "diabetes[\"BMI\"].max()"
   ]
  },
  {
   "cell_type": "code",
   "execution_count": 18,
   "id": "affb6ba5-cc1e-446d-ada8-c7c30620b706",
   "metadata": {},
   "outputs": [
    {
     "data": {
      "text/plain": [
       "18.0"
      ]
     },
     "execution_count": 18,
     "metadata": {},
     "output_type": "execute_result"
    }
   ],
   "source": [
    "diabetes[\"BMI\"].min()"
   ]
  },
  {
   "cell_type": "code",
   "execution_count": 19,
   "id": "6fc9121c-0598-4f61-a72a-bcbfc5dcd1eb",
   "metadata": {},
   "outputs": [],
   "source": [
    "x_fit = pd.DataFrame({\"BMI\": [18, 42.2]}) #found range of x values (BMI)\n",
    "y_pred = model.predict(x_fit) #use known x values to plot line of best fit through data"
   ]
  },
  {
   "cell_type": "code",
   "execution_count": 20,
   "id": "75417db3-8721-4405-a7dd-06eca203eae5",
   "metadata": {},
   "outputs": [
    {
     "name": "stderr",
     "output_type": "stream",
     "text": [
      "*c* argument looks like a single numeric RGB or RGBA sequence, which should be avoided as value-mapping will have precedence in case its length matches with *x* & *y*.  Please use the *color* keyword-argument or provide a 2D array with a single row if you intend to specify the same RGB or RGBA value for all points.\n"
     ]
    },
    {
     "data": {
      "text/plain": [
       "Text(0, 0.5, 'Disease progression one year post baseline')"
      ]
     },
     "execution_count": 20,
     "metadata": {},
     "output_type": "execute_result"
    },
    {
     "data": {
      "image/png": "[encoded data removed]",
      "text/plain": [
       "<Figure size 432x288 with 1 Axes>"
      ]
     },
     "metadata": {},
     "output_type": "display_data"
    }
   ],
   "source": [
    "#present scatter plot of data with line of best fit\n",
    "\n",
    "fig, ax = plt.subplots()\n",
    "diabetes.plot.scatter(\"BMI\", \"Y\", ax=ax)\n",
    "ax.plot(x_fit[\"BMI\"], y_pred, linestyle=\":\")\n",
    "plt.xlabel(\"BMI (kg/m^2)\")\n",
    "plt.ylabel(\"Disease progression one year post baseline\")"
   ]
  },
  {
   "cell_type": "code",
   "execution_count": 21,
   "id": "45606703-fe16-4b00-b4ad-7c2bb8195ead",
   "metadata": {},
   "outputs": [
    {
     "data": {
      "text/plain": [
       "<matplotlib.legend.Legend at 0x7fe26f2f1e20>"
      ]
     },
     "execution_count": 21,
     "metadata": {},
     "output_type": "execute_result"
    },
    {
     "data": {
      "image/png": "[encoded data removed]",
      "text/plain": [
       "<Figure size 432x288 with 1 Axes>"
      ]
     },
     "metadata": {},
     "output_type": "display_data"
    }
   ],
   "source": [
    "#linear regression model using train and test data to predict disease progression from BMI\n",
    "\n",
    "from sklearn.model_selection import train_test_split\n",
    "\n",
    "train_X, test_X, train_y, test_y = train_test_split(X, y, random_state=42) #haven't defined split of train/test data so set to default 75/25\n",
    "\n",
    "import matplotlib.pyplot as plt\n",
    "\n",
    "fig, ax = plt.subplots()\n",
    "\n",
    "ax.scatter(train_X, train_y, color=\"red\", marker=\"o\", label=\"train\")\n",
    "ax.scatter(test_X, test_y, color=\"blue\", marker=\"x\", label=\"test\")\n",
    "ax.legend()"
   ]
  },
  {
   "cell_type": "code",
   "execution_count": 22,
   "id": "80b83788-80c8-48bd-8445-822ea827d768",
   "metadata": {},
   "outputs": [
    {
     "data": {
      "text/plain": [
       "LinearRegression()"
      ]
     },
     "execution_count": 22,
     "metadata": {},
     "output_type": "execute_result"
    }
   ],
   "source": [
    "#fit model using training data\n",
    "from sklearn.linear_model import LinearRegression\n",
    "\n",
    "model = LinearRegression(fit_intercept=True)\n",
    "model.fit(train_X, train_y)"
   ]
  },
  {
   "cell_type": "code",
   "execution_count": 23,
   "id": "84e677e8-a93e-42c5-97d9-a2457b2db36c",
   "metadata": {},
   "outputs": [
    {
     "data": {
      "text/plain": [
       "0.31720994495377797"
      ]
     },
     "execution_count": 23,
     "metadata": {},
     "output_type": "execute_result"
    }
   ],
   "source": [
    "#run model on test data... produces poor score (BMI is not a good predictor of diabetes progression)\n",
    "model.score(test_X, test_y)"
   ]
  },
  {
   "cell_type": "code",
   "execution_count": null,
   "id": "17a9bd3a-758d-4faf-897e-500ea7023dda",
   "metadata": {},
   "outputs": [],
   "source": []
  },
  {
   "cell_type": "code",
   "execution_count": 24,
   "id": "b11b83ff-3bca-433d-81e4-ac447a09648b",
   "metadata": {},
   "outputs": [
    {
     "data": {
      "text/plain": [
       "LinearRegression()"
      ]
     },
     "execution_count": 24,
     "metadata": {},
     "output_type": "execute_result"
    }
   ],
   "source": [
    "#try simple linear regression model with Age, BP, Total_Chol (S1), LDL (S2), HDL (S3), Trigly (S5), Glucose (S6). See results report for model scores.\n",
    "\n",
    "Attr = \"S1\" #define attribute/independent variable, substitute this variable in each simple linear regression\n",
    "\n",
    "model = LinearRegression(fit_intercept=True)\n",
    "X = diabetes[[Attr]]\n",
    "y = diabetes[\"Y\"]\n",
    "model.fit(X,y)"
   ]
  },
  {
   "cell_type": "code",
   "execution_count": 25,
   "id": "141655be-1e90-4020-a9d3-a02d29ad2a5d",
   "metadata": {},
   "outputs": [],
   "source": [
    "Attr_max = diabetes[[Attr]].max()"
   ]
  },
  {
   "cell_type": "code",
   "execution_count": 26,
   "id": "39705060-d533-4b11-a212-d6c8b76d03df",
   "metadata": {},
   "outputs": [],
   "source": [
    "Attr_min = diabetes[[Attr]].min()"
   ]
  },
  {
   "cell_type": "code",
   "execution_count": 27,
   "id": "d6a2484b-ffe2-47b2-8522-540d17255524",
   "metadata": {},
   "outputs": [],
   "source": [
    "x_fit = pd.DataFrame({Attr: [Attr_min,Attr_max]}) #input range of x values to fit line\n",
    "y_pred = model.predict(x_fit)"
   ]
  },
  {
   "cell_type": "code",
   "execution_count": 28,
   "id": "01cae291-60e3-4c41-8d84-a866ac7745b8",
   "metadata": {},
   "outputs": [
    {
     "name": "stderr",
     "output_type": "stream",
     "text": [
      "*c* argument looks like a single numeric RGB or RGBA sequence, which should be avoided as value-mapping will have precedence in case its length matches with *x* & *y*.  Please use the *color* keyword-argument or provide a 2D array with a single row if you intend to specify the same RGB or RGBA value for all points.\n"
     ]
    },
    {
     "data": {
      "text/plain": [
       "[<matplotlib.lines.Line2D at 0x7fe26f69b190>]"
      ]
     },
     "execution_count": 28,
     "metadata": {},
     "output_type": "execute_result"
    },
    {
     "data": {
      "image/png": "[encoded data removed]",
      "text/plain": [
       "<Figure size 432x288 with 1 Axes>"
      ]
     },
     "metadata": {},
     "output_type": "display_data"
    }
   ],
   "source": [
    "#make a plot of the predictive model\n",
    "\n",
    "fig, ax = plt.subplots()\n",
    "diabetes.plot.scatter([Attr], \"Y\", ax=ax)\n",
    "ax.plot(x_fit[[Attr]], y_pred, linestyle=\":\")"
   ]
  },
  {
   "cell_type": "code",
   "execution_count": 29,
   "id": "60bad4ee-ca39-4884-b517-732d3fd73539",
   "metadata": {},
   "outputs": [
    {
     "data": {
      "text/plain": [
       "<matplotlib.legend.Legend at 0x7fe26f2dd3a0>"
      ]
     },
     "execution_count": 29,
     "metadata": {},
     "output_type": "execute_result"
    },
    {
     "data": {
      "image/png": "[encoded data removed]",
      "text/plain": [
       "<Figure size 432x288 with 1 Axes>"
      ]
     },
     "metadata": {},
     "output_type": "display_data"
    }
   ],
   "source": [
    "#split data into train and test\n",
    "from sklearn.model_selection import train_test_split\n",
    "\n",
    "train_X, test_X, train_y, test_y = train_test_split(X, y, random_state=42) #default split of train/test data 75/25\n",
    "\n",
    "import matplotlib.pyplot as plt\n",
    "\n",
    "fig, ax = plt.subplots()\n",
    "\n",
    "ax.scatter(train_X, train_y, color=\"red\", marker=\"o\", label=\"train\")\n",
    "ax.scatter(test_X, test_y, color=\"blue\", marker=\"x\", label=\"test\")\n",
    "ax.legend()"
   ]
  },
  {
   "cell_type": "code",
   "execution_count": 30,
   "id": "92bc09d1-e89c-4b31-a85c-b213a0acd090",
   "metadata": {},
   "outputs": [
    {
     "data": {
      "text/plain": [
       "LinearRegression()"
      ]
     },
     "execution_count": 30,
     "metadata": {},
     "output_type": "execute_result"
    }
   ],
   "source": [
    "#fit model to training data\n",
    "from sklearn.linear_model import LinearRegression\n",
    "\n",
    "model = LinearRegression(fit_intercept=True)\n",
    "model.fit(train_X, train_y)"
   ]
  },
  {
   "cell_type": "code",
   "execution_count": 31,
   "id": "1c0408a3-be7d-4395-a8c6-63b6d00e616f",
   "metadata": {},
   "outputs": [
    {
     "data": {
      "text/plain": [
       "0.06626553266368596"
      ]
     },
     "execution_count": 31,
     "metadata": {},
     "output_type": "execute_result"
    }
   ],
   "source": [
    "#run model on test data\n",
    "model.score(test_X, test_y)"
   ]
  },
  {
   "cell_type": "markdown",
   "id": "fc8ad644-06ec-431a-9490-67cc959b7bc3",
   "metadata": {},
   "source": [
    "# MULTIPLE LINEAR REGRESSION"
   ]
  },
  {
   "cell_type": "code",
   "execution_count": 32,
   "id": "e39f48cb-7515-49fe-a273-2feba20c57f5",
   "metadata": {},
   "outputs": [
    {
     "data": {
      "text/plain": [
       "LinearRegression()"
      ]
     },
     "execution_count": 32,
     "metadata": {},
     "output_type": "execute_result"
    }
   ],
   "source": [
    "#run multiple linear regression model with numerous variables this time to see if I can improve model score and diabetes progression prediction\n",
    "#used BMI, HDL, Triglycerides and Blood sugar level in model\n",
    "\n",
    "from sklearn.linear_model import LinearRegression\n",
    "\n",
    "model = LinearRegression(fit_intercept=True)\n",
    "\n",
    "Multi = pd.DataFrame(diabetes[[\"BMI\",\"S3\", \"S5\",\"S6\"]]) #defining new data frame for X with variables of interest\n",
    "\n",
    "X = Multi\n",
    "y = diabetes[\"Y\"]\n",
    "model.fit(X,y)"
   ]
  },
  {
   "cell_type": "code",
   "execution_count": 33,
   "id": "98563d52-c9d2-4f2c-b0e6-e82e46b731ce",
   "metadata": {},
   "outputs": [
    {
     "data": {
      "text/plain": [
       "LinearRegression()"
      ]
     },
     "execution_count": 33,
     "metadata": {},
     "output_type": "execute_result"
    }
   ],
   "source": [
    "from sklearn.model_selection import train_test_split\n",
    "\n",
    "train_X, test_X, train_y, test_y = train_test_split(X, y, random_state=42)\n",
    "\n",
    "from sklearn.linear_model import LinearRegression\n",
    "\n",
    "model = LinearRegression(fit_intercept=True)\n",
    "model.fit(train_X, train_y)"
   ]
  },
  {
   "cell_type": "code",
   "execution_count": 34,
   "id": "b743fafd-689a-4428-91af-ddca01638a4d",
   "metadata": {},
   "outputs": [
    {
     "data": {
      "text/plain": [
       "0.5067149094831265"
      ]
     },
     "execution_count": 34,
     "metadata": {},
     "output_type": "execute_result"
    }
   ],
   "source": [
    "model.score(test_X, test_y) #get a better model score using multiple predictors (which are physiologically relevant to diabetes too)"
   ]
  },
  {
   "cell_type": "markdown",
   "id": "648b2653-dacf-405c-b159-2ad62f093281",
   "metadata": {
    "tags": []
   },
   "source": [
    "# CHECKING FOR COLLINEARITY"
   ]
  },
  {
   "cell_type": "code",
   "execution_count": 35,
   "id": "e98b0645-e9ea-4140-8f13-9f02dca14e25",
   "metadata": {},
   "outputs": [
    {
     "name": "stdout",
     "output_type": "stream",
     "text": [
      "          AGE       SEX       BMI        BP        S1        S2        S3  \\\n",
      "AGE  1.000000  0.173737  0.185085  0.335428  0.260061  0.219243 -0.075181   \n",
      "SEX  0.173737  1.000000  0.088161  0.241010  0.035277  0.142637 -0.379090   \n",
      "BMI  0.185085  0.088161  1.000000  0.395411  0.249777  0.261170 -0.366811   \n",
      "BP   0.335428  0.241010  0.395411  1.000000  0.242464  0.185548 -0.178762   \n",
      "S1   0.260061  0.035277  0.249777  0.242464  1.000000  0.896663  0.051519   \n",
      "S2   0.219243  0.142637  0.261170  0.185548  0.896663  1.000000 -0.196455   \n",
      "S3  -0.075181 -0.379090 -0.366811 -0.178762  0.051519 -0.196455  1.000000   \n",
      "S4   0.203841  0.332115  0.413807  0.257650  0.542207  0.659817 -0.738493   \n",
      "S5   0.270774  0.149916  0.446157  0.393480  0.515503  0.318357 -0.398577   \n",
      "S6   0.301731  0.208133  0.388680  0.390430  0.325717  0.290600 -0.273697   \n",
      "Y    0.187889  0.043062  0.586450  0.441482  0.212022  0.174054 -0.394789   \n",
      "\n",
      "           S4        S5        S6         Y  \n",
      "AGE  0.203841  0.270774  0.301731  0.187889  \n",
      "SEX  0.332115  0.149916  0.208133  0.043062  \n",
      "BMI  0.413807  0.446157  0.388680  0.586450  \n",
      "BP   0.257650  0.393480  0.390430  0.441482  \n",
      "S1   0.542207  0.515503  0.325717  0.212022  \n",
      "S2   0.659817  0.318357  0.290600  0.174054  \n",
      "S3  -0.738493 -0.398577 -0.273697 -0.394789  \n",
      "S4   1.000000  0.617859  0.417212  0.430453  \n",
      "S5   0.617859  1.000000  0.464669  0.565883  \n",
      "S6   0.417212  0.464669  1.000000  0.382483  \n",
      "Y    0.430453  0.565883  0.382483  1.000000  \n"
     ]
    }
   ],
   "source": [
    "corr = diabetes.corr() \n",
    "print(corr) #print correlations between attributes"
   ]
  },
  {
   "cell_type": "code",
   "execution_count": 36,
   "id": "e106e4d2-218b-48a0-9872-442fa730578a",
   "metadata": {},
   "outputs": [
    {
     "data": {
      "text/plain": [
       "<AxesSubplot:>"
      ]
     },
     "execution_count": 36,
     "metadata": {},
     "output_type": "execute_result"
    },
    {
     "data": {
      "image/png": "[encoded data removed]",
      "text/plain": [
       "<Figure size 432x288 with 2 Axes>"
      ]
     },
     "metadata": {
      "needs_background": "light"
     },
     "output_type": "display_data"
    }
   ],
   "source": [
    "#create heat map of correlation between these variables\n",
    "%matplotlib inline\n",
    "\n",
    "cmap = sns.diverging_palette(10, 220, as_cmap=True)\n",
    "sns.heatmap(corr, vmin=-1.0, vmax=1.0, square=True, cmap=cmap)\n",
    "\n",
    "#linear regression assumption is that x variables are independent. Heat map suggests some collinearity (i.e., Trigly (S5) and BMI, Trigly (S5) and Total_Chol(S1)) so can try ridge regression to account for this."
   ]
  },
  {
   "cell_type": "markdown",
   "id": "f7a92cb0-0f6e-4174-9ce3-534579c37e4e",
   "metadata": {},
   "source": [
    "# RIDGE REGRESSION TO ACCOUNT FOR COLLINEARITY (Help from C.Young)"
   ]
  },
  {
   "cell_type": "code",
   "execution_count": 37,
   "id": "2efdf605-daa6-4f61-948b-603fe6a339d5",
   "metadata": {},
   "outputs": [],
   "source": [
    "from sklearn.linear_model import Ridge"
   ]
  },
  {
   "cell_type": "code",
   "execution_count": 38,
   "id": "77c97d05-0f43-4604-9874-58bb32a87957",
   "metadata": {},
   "outputs": [
    {
     "data": {
      "text/plain": [
       "Ridge()"
      ]
     },
     "execution_count": 38,
     "metadata": {},
     "output_type": "execute_result"
    }
   ],
   "source": [
    "#using same variables as before (BMI, HDL (S3), Triglycerides (S5) and Blood sugar level (S6))\n",
    "model = Ridge(fit_intercept=True)\n",
    "\n",
    "Multi = pd.DataFrame(diabetes[[\"BMI\",\"S3\",\"S5\",\"S6\"]])\n",
    "\n",
    "X = Multi\n",
    "y = diabetes[\"Y\"]\n",
    "model.fit(X,y)"
   ]
  },
  {
   "cell_type": "code",
   "execution_count": 39,
   "id": "7db3fd1c-6046-4844-8010-1e8be94112ed",
   "metadata": {},
   "outputs": [
    {
     "data": {
      "text/plain": [
       "0.5055488016253997"
      ]
     },
     "execution_count": 39,
     "metadata": {},
     "output_type": "execute_result"
    }
   ],
   "source": [
    "#split train and test data as before to use with ridge model\n",
    "\n",
    "from sklearn.model_selection import train_test_split\n",
    "\n",
    "train_X, test_X, train_y, test_y = train_test_split(X, y, random_state=42)\n",
    "\n",
    "from sklearn.linear_model import Ridge\n",
    "\n",
    "model = Ridge(fit_intercept=True)\n",
    "model.fit(train_X, train_y)\n",
    "\n",
    "model.score(test_X, test_y) #slightly lower model score due to accounting for collinearity (reducing overfitting)"
   ]
  },
  {
   "cell_type": "code",
   "execution_count": null,
   "id": "5e35dc2f-8f70-44eb-931c-92fb9d8c92b9",
   "metadata": {},
   "outputs": [],
   "source": []
  },
  {
   "cell_type": "markdown",
   "id": "1478daa9-2e26-48b8-8b49-dcbe527a6dbf",
   "metadata": {},
   "source": [
    "#Find optimal alpha (discount factor) for model using gridsearch"
   ]
  },
  {
   "cell_type": "code",
   "execution_count": 40,
   "id": "70cc03c9-15ca-427f-abbd-9d1c242d7748",
   "metadata": {
    "tags": []
   },
   "outputs": [
    {
     "data": {
      "text/plain": [
       "GridSearchCV(estimator=Ridge(),\n",
       "             param_grid={'alpha': array([ 0.        ,  0.1010101 ,  0.2020202 ,  0.3030303 ,  0.4040404 ,\n",
       "        0.50505051,  0.60606061,  0.70707071,  0.80808081,  0.90909091,\n",
       "        1.01010101,  1.11111111,  1.21212121,  1.31313131,  1.41414141,\n",
       "        1.51515152,  1.61616162,  1.71717172,  1.81818182,  1.91919192,\n",
       "        2.02020202,  2.12121212,  2.22222222,  2.32323232,  2.42424242,\n",
       "        2.52525253,  2.62626263,  2.72727...\n",
       "        6.56565657,  6.66666667,  6.76767677,  6.86868687,  6.96969697,\n",
       "        7.07070707,  7.17171717,  7.27272727,  7.37373737,  7.47474747,\n",
       "        7.57575758,  7.67676768,  7.77777778,  7.87878788,  7.97979798,\n",
       "        8.08080808,  8.18181818,  8.28282828,  8.38383838,  8.48484848,\n",
       "        8.58585859,  8.68686869,  8.78787879,  8.88888889,  8.98989899,\n",
       "        9.09090909,  9.19191919,  9.29292929,  9.39393939,  9.49494949,\n",
       "        9.5959596 ,  9.6969697 ,  9.7979798 ,  9.8989899 , 10.        ])})"
      ]
     },
     "execution_count": 40,
     "metadata": {},
     "output_type": "execute_result"
    }
   ],
   "source": [
    "from sklearn.model_selection import GridSearchCV\n",
    "\n",
    "alpha = {\n",
    "    'alpha' : np.linspace(0, 10, 100) \n",
    "}\n",
    "#generating 100 values between 0 and 10 to find optimum alpha value for model\n",
    "\n",
    "model_ridge = GridSearchCV(Ridge(), alpha)\n",
    "\n",
    "model_ridge.fit(train_X, train_y)"
   ]
  },
  {
   "cell_type": "code",
   "execution_count": 41,
   "id": "d9fa7e8b-6d69-4d35-956a-eebbacefd71b",
   "metadata": {},
   "outputs": [
    {
     "name": "stdout",
     "output_type": "stream",
     "text": [
      "    mean_fit_time  std_fit_time  mean_score_time  std_score_time param_alpha  \\\n",
      "0        0.004115      0.001215         0.003892        0.002153         0.0   \n",
      "1        0.002992      0.001469         0.001869        0.000357     0.10101   \n",
      "2        0.002412      0.000376         0.001537        0.000154     0.20202   \n",
      "3        0.002102      0.000031         0.001432        0.000018     0.30303   \n",
      "4        0.002083      0.000017         0.001420        0.000013     0.40404   \n",
      "..            ...           ...              ...             ...         ...   \n",
      "95       0.002046      0.000065         0.001403        0.000027     9.59596   \n",
      "96       0.002067      0.000076         0.001419        0.000082     9.69697   \n",
      "97       0.001989      0.000011         0.001382        0.000021     9.79798   \n",
      "98       0.002024      0.000035         0.001410        0.000045     9.89899   \n",
      "99       0.001997      0.000017         0.001371        0.000016        10.0   \n",
      "\n",
      "                            params  split0_test_score  split1_test_score  \\\n",
      "0                   {'alpha': 0.0}           0.440868           0.348185   \n",
      "1   {'alpha': 0.10101010101010101}           0.440782           0.348265   \n",
      "2   {'alpha': 0.20202020202020202}           0.440697           0.348344   \n",
      "3   {'alpha': 0.30303030303030304}           0.440611           0.348422   \n",
      "4   {'alpha': 0.40404040404040403}           0.440525           0.348499   \n",
      "..                             ...                ...                ...   \n",
      "95    {'alpha': 9.595959595959595}           0.432815           0.352420   \n",
      "96    {'alpha': 9.696969696969697}           0.432733           0.352438   \n",
      "97    {'alpha': 9.797979797979798}           0.432651           0.352456   \n",
      "98      {'alpha': 9.8989898989899}           0.432569           0.352474   \n",
      "99                 {'alpha': 10.0}           0.432488           0.352491   \n",
      "\n",
      "    split2_test_score  split3_test_score  split4_test_score  mean_test_score  \\\n",
      "0            0.469359           0.557286           0.208025         0.404744   \n",
      "1            0.469373           0.557243           0.208060         0.404745   \n",
      "2            0.469387           0.557199           0.208094         0.404744   \n",
      "3            0.469400           0.557156           0.208127         0.404743   \n",
      "4            0.469412           0.557112           0.208159         0.404742   \n",
      "..                ...                ...                ...              ...   \n",
      "95           0.468885           0.553080           0.208601         0.403160   \n",
      "96           0.468867           0.553036           0.208587         0.403132   \n",
      "97           0.468848           0.552992           0.208572         0.403104   \n",
      "98           0.468829           0.552948           0.208557         0.403075   \n",
      "99           0.468810           0.552904           0.208542         0.403047   \n",
      "\n",
      "    std_test_score  rank_test_score  \n",
      "0         0.118867                2  \n",
      "1         0.118833                1  \n",
      "2         0.118799                3  \n",
      "3         0.118766                4  \n",
      "4         0.118733                5  \n",
      "..             ...              ...  \n",
      "95        0.116707               96  \n",
      "96        0.116693               97  \n",
      "97        0.116679               98  \n",
      "98        0.116665               99  \n",
      "99        0.116651              100  \n",
      "\n",
      "[100 rows x 14 columns]\n"
     ]
    }
   ],
   "source": [
    "cv_results = pd.DataFrame(model_ridge.cv_results_) #make dataframe of CV results\n",
    "print(cv_results)"
   ]
  },
  {
   "cell_type": "code",
   "execution_count": 42,
   "id": "f0b6457b-c4bc-4fd1-9281-c90bd02e9ecf",
   "metadata": {},
   "outputs": [
    {
     "name": "stdout",
     "output_type": "stream",
     "text": [
      "1    0.10101\n",
      "Name: param_alpha, dtype: object\n"
     ]
    }
   ],
   "source": [
    "#aiming to filter out maximum alpha value from the Gridsearch results to use in ridge regression model.\n",
    "\n",
    "cv_results_filter = cv_results['mean_test_score'] == cv_results['mean_test_score'].max() #creating filter to find max score amongst 'mean_test_score' column of CV results\n",
    "\n",
    "cv_results_filtered = cv_results[cv_results_filter] #make dataframe with only max score row from CV results\n",
    "\n",
    "alpha = cv_results_filtered['param_alpha'] #identify alpha in 'param_alpha' column that corresponds to max score\n",
    "\n",
    "print(alpha)"
   ]
  },
  {
   "cell_type": "code",
   "execution_count": 43,
   "id": "89ab09db-6f39-4324-b8f8-25e17cc2e76e",
   "metadata": {},
   "outputs": [],
   "source": [
    "model_ridge= Ridge(alpha=0.10101)"
   ]
  },
  {
   "cell_type": "markdown",
   "id": "615b5766-2ba8-4fd9-952e-bce00ae219a5",
   "metadata": {},
   "source": [
    "#RE-RUN RIDGE MODEL WITH OPTIMAL ALPHA VALUE"
   ]
  },
  {
   "cell_type": "code",
   "execution_count": 44,
   "id": "4ebb5530-976a-4061-b820-bd2866446c12",
   "metadata": {},
   "outputs": [
    {
     "data": {
      "text/plain": [
       "0.5055488016253997"
      ]
     },
     "execution_count": 44,
     "metadata": {},
     "output_type": "execute_result"
    }
   ],
   "source": [
    "from sklearn.model_selection import train_test_split\n",
    "\n",
    "train_X, test_X, train_y, test_y = train_test_split(X, y, random_state=42)\n",
    "\n",
    "model_ridge = Ridge(fit_intercept=True)\n",
    "model_ridge.fit(train_X, train_y)\n",
    "\n",
    "model_ridge.score(test_X, test_y)\n",
    "#same model score as without 'best' alpha value"
   ]
  }
 ],
 "metadata": {
  "kernelspec": {
   "display_name": "Python 3 (ipykernel)",
   "language": "python",
   "name": "python3"
  },
  "language_info": {
   "codemirror_mode": {
    "name": "ipython",
    "version": 3
   },
   "file_extension": ".py",
   "mimetype": "text/x-python",
   "name": "python",
   "nbconvert_exporter": "python",
   "pygments_lexer": "ipython3",
   "version": "3.9.7"
  }
 },
 "nbformat": 4,
 "nbformat_minor": 5
}
